{
 "cells": [
  {
   "cell_type": "markdown",
   "id": "589ebf93-ced4-48fe-a4b7-d4bc91ad3cc0",
   "metadata": {},
   "source": [
    "# Python review\n",
    "\n",
    "Goals: \n",
    "- recall basic Python vocabulary \n",
    "- practice markdown\n",
    "\n",
    "## Libraries and packages\n",
    "\n",
    "**library**: a collection of code that we can use to perform specific tasks in our programs.\n",
    "\n",
    "**NumPy**: \n",
    "- core library for numerical computing in Python\n",
    "- many other libraries use NumPy arrays as building blocks.\n",
    "- computations on NumPy are optimized for speed and memory usage.\n",
    "\n",
    "Let's import NumPy with **standard abbreviation**."
   ]
  },
  {
   "cell_type": "code",
   "execution_count": 1,
   "id": "140e7842-ad59-408c-90ab-851f80e942a6",
   "metadata": {
    "tags": []
   },
   "outputs": [],
   "source": [
    "import numpy as np"
   ]
  },
  {
   "cell_type": "markdown",
   "id": "3d148988-df03-4d93-943b-d55859e2d9e0",
   "metadata": {},
   "source": [
    "## Variables\n",
    "\n",
    "**variable**: a name we assign to a particular object in Python\n",
    "\n",
    "Example:"
   ]
  },
  {
   "cell_type": "code",
   "execution_count": 2,
   "id": "af4b2ad5-2cbb-43e9-b527-aff825d7c5e8",
   "metadata": {
    "tags": []
   },
   "outputs": [],
   "source": [
    "# Assign a small array to a variable a\n",
    "a = np.array([[1, 1, 2], [3, 5, 8]])"
   ]
  },
  {
   "cell_type": "code",
   "execution_count": 3,
   "id": "32849465-76d3-4ee3-9a8c-12f847ed0fd5",
   "metadata": {
    "tags": []
   },
   "outputs": [
    {
     "data": {
      "text/plain": [
       "array([[1, 1, 2],\n",
       "       [3, 5, 8]])"
      ]
     },
     "execution_count": 3,
     "metadata": {},
     "output_type": "execute_result"
    }
   ],
   "source": [
    "# Run cell with variable name to show value\n",
    "a"
   ]
  },
  {
   "cell_type": "code",
   "execution_count": 4,
   "id": "92d290f6-4c40-4c0a-b31f-93e68e139c92",
   "metadata": {
    "tags": []
   },
   "outputs": [
    {
     "name": "stdout",
     "output_type": "stream",
     "text": [
      "[[1 1 2]\n",
      " [3 5 8]]\n"
     ]
    }
   ],
   "source": [
    "# Use `print` function to print the value\n",
    "print(a)"
   ]
  },
  {
   "cell_type": "markdown",
   "id": "59a40af7-3854-4616-a5b8-9fdeb38dfec9",
   "metadata": {},
   "source": [
    "## Objects\n",
    "\n",
    "**object** (informally speaking): a bundle of *properties* and *actions* about something specific.\n",
    "\n",
    "Example:\n",
    "\n",
    "Object: data frame\n",
    "Properties: number rows, names of columns, date created\n",
    "Actions: selecting a specific row, adding a new column \n",
    "\n",
    "A variable is the name we give a specific object, and the same object can be referenced by different variables.\n",
    "\n",
    "In practice, we can often use variable and object interchangeably.\n",
    "\n",
    "## Types\n",
    "\n",
    "Every object in Python has a **type**. The type tells us what kind of object it is.\n",
    "\n",
    "We can also call the type of an object, the **class** of an object, and they both mean what kind of object we have."
   ]
  },
  {
   "cell_type": "code",
   "execution_count": 5,
   "id": "92749930-10b0-41c5-9ab6-86e0e9a5fb67",
   "metadata": {
    "tags": []
   },
   "outputs": [
    {
     "name": "stdout",
     "output_type": "stream",
     "text": [
      "[[1 1 2]\n",
      " [3 5 8]]\n"
     ]
    },
    {
     "data": {
      "text/plain": [
       "numpy.ndarray"
      ]
     },
     "execution_count": 5,
     "metadata": {},
     "output_type": "execute_result"
    }
   ],
   "source": [
    "print(a)\n",
    "\n",
    "# Check the type/class of a variable/onject by using 'type' function\n",
    "type(a)"
   ]
  },
  {
   "cell_type": "code",
   "execution_count": 7,
   "id": "859b9437-5487-4beb-9e30-9f16c6a72bea",
   "metadata": {
    "tags": []
   },
   "outputs": [
    {
     "name": "stdout",
     "output_type": "stream",
     "text": [
      "1\n"
     ]
    },
    {
     "data": {
      "text/plain": [
       "numpy.int64"
      ]
     },
     "execution_count": 7,
     "metadata": {},
     "output_type": "execute_result"
    }
   ],
   "source": [
    "# Accessing specific value within the array\n",
    "print(a[0,0]) # first row, first column\n",
    "\n",
    "# Check the type of an entry on the array by indexing\n",
    "type(a[0,0])"
   ]
  },
  {
   "cell_type": "markdown",
   "id": "e82d634e-d3a4-4c41-a752-4e3f217ef2fb",
   "metadata": {},
   "source": [
    "Notice that `type(a[0,0])` is `numpy.int64` and not just the standard Python integer type. This is telling us that 1 is an integer stored as a 64-bit number."
   ]
  },
  {
   "cell_type": "markdown",
   "id": "b4b73ebf-9430-480b-accc-5263ec6c039f",
   "metadata": {},
   "source": [
    "## Functions\n",
    "\n",
    "`print` was our first example of a Python **function**.\n",
    "\n",
    "Functions take in a set of **arguments** and those arguments create an **output**.\n",
    "\n",
    "argument = parameter\n",
    "\n",
    "We can ask information about a function by executing `?function`"
   ]
  },
  {
   "cell_type": "code",
   "execution_count": 9,
   "id": "a9c2868a-27cf-4228-86a9-f51a71d17734",
   "metadata": {
    "tags": []
   },
   "outputs": [
    {
     "data": {
      "text/plain": [
       "\u001b[0;31mSignature:\u001b[0m \u001b[0mprint\u001b[0m\u001b[0;34m(\u001b[0m\u001b[0;34m*\u001b[0m\u001b[0margs\u001b[0m\u001b[0;34m,\u001b[0m \u001b[0msep\u001b[0m\u001b[0;34m=\u001b[0m\u001b[0;34m' '\u001b[0m\u001b[0;34m,\u001b[0m \u001b[0mend\u001b[0m\u001b[0;34m=\u001b[0m\u001b[0;34m'\\n'\u001b[0m\u001b[0;34m,\u001b[0m \u001b[0mfile\u001b[0m\u001b[0;34m=\u001b[0m\u001b[0;32mNone\u001b[0m\u001b[0;34m,\u001b[0m \u001b[0mflush\u001b[0m\u001b[0;34m=\u001b[0m\u001b[0;32mFalse\u001b[0m\u001b[0;34m)\u001b[0m\u001b[0;34m\u001b[0m\u001b[0;34m\u001b[0m\u001b[0m\n",
       "\u001b[0;31mDocstring:\u001b[0m\n",
       "Prints the values to a stream, or to sys.stdout by default.\n",
       "\n",
       "sep\n",
       "  string inserted between values, default a space.\n",
       "end\n",
       "  string appended after the last value, default a newline.\n",
       "file\n",
       "  a file-like object (stream); defaults to the current sys.stdout.\n",
       "flush\n",
       "  whether to forcibly flush the stream.\n",
       "\u001b[0;31mType:\u001b[0m      builtin_function_or_method"
      ]
     },
     "metadata": {},
     "output_type": "display_data"
    }
   ],
   "source": [
    "?print"
   ]
  },
  {
   "cell_type": "markdown",
   "id": "3217537c-d284-4bce-913b-b9577657f8d7",
   "metadata": {},
   "source": [
    "This information is a **docstring**.\n",
    "\n",
    "A function has two types of arguments:\n",
    "\n",
    "- **non-optional**: arguments *you* need to specify for the function to do something\n",
    "- **optional argument**: arguments that are pre-filled with a default value by the function. You can override them. Optional arguments appear inside the parenthesis in `optional_argument=default_value`."
   ]
  },
  {
   "cell_type": "code",
   "execution_count": 15,
   "id": "9fb2bc0b-32c7-4b36-a544-31c5eefc136d",
   "metadata": {
    "tags": []
   },
   "outputs": [
    {
     "name": "stdout",
     "output_type": "stream",
     "text": [
      "changing the default end argument :)"
     ]
    }
   ],
   "source": [
    "print('changing the default end argument', end=' :)' )"
   ]
  },
  {
   "cell_type": "markdown",
   "id": "245e8c4f-d38e-4d28-8250-ce976939e355",
   "metadata": {},
   "source": [
    "## Attributes & Methods\n",
    "\n",
    "An object in Python has attributes and methods.\n",
    "\n",
    "- **attribute**: a property of an object, some piece of information about it.\n",
    "- **method**: a procedure associated with the object, an action where the main ingredient in an object.\n",
    "\n",
    "### Check-in\n",
    "\n",
    "Fish: \n",
    "- **Attributes**: length, color, species\n",
    "- **Methods**: die(), bite(), swim()\n",
    "\n",
    "**Example**\n",
    "\n",
    "Attributes for `numpy.arrays`\n",
    "\n",
    "We can access a variable's attributes and methods by adding a period `.` at theh end of the variable's name.\n",
    "\n",
    "`variable.method()` or `variable.attribute`"
   ]
  },
  {
   "cell_type": "code",
   "execution_count": 16,
   "id": "53bf28f1-c7cd-48c0-a30d-6341026394da",
   "metadata": {
    "tags": []
   },
   "outputs": [
    {
     "data": {
      "text/plain": [
       "(2, 3)"
      ]
     },
     "execution_count": 16,
     "metadata": {},
     "output_type": "execute_result"
    }
   ],
   "source": [
    "a.shape"
   ]
  },
  {
   "cell_type": "code",
   "execution_count": 17,
   "id": "ae1cbc8e-790d-4c31-aebf-9eb17a570429",
   "metadata": {
    "tags": []
   },
   "outputs": [
    {
     "data": {
      "text/plain": [
       "tuple"
      ]
     },
     "execution_count": 17,
     "metadata": {},
     "output_type": "execute_result"
    }
   ],
   "source": [
    "type(a.shape)"
   ]
  },
  {
   "cell_type": "code",
   "execution_count": 20,
   "id": "61c5878d-47f4-4a94-9636-2a96fdfc1472",
   "metadata": {
    "tags": []
   },
   "outputs": [
    {
     "data": {
      "text/plain": [
       "array([1, 1, 2])"
      ]
     },
     "execution_count": 20,
     "metadata": {},
     "output_type": "execute_result"
    }
   ],
   "source": [
    "# Methods examples\n",
    "\n",
    "# min() returns the minimum value along a specified axis\n",
    "a.min(axis=0) # axis=0 refers to columns"
   ]
  },
  {
   "cell_type": "markdown",
   "id": "680f24bf-727c-4f18-a674-3add4a9a0645",
   "metadata": {},
   "source": [
    "## Check-in\n",
    "\n",
    "We can also call the `min` method without any parameters:"
   ]
  },
  {
   "cell_type": "code",
   "execution_count": 21,
   "id": "0605abf9-0903-45b6-b685-f6a58564487d",
   "metadata": {
    "tags": []
   },
   "outputs": [
    {
     "data": {
      "text/plain": [
       "1"
      ]
     },
     "execution_count": 21,
     "metadata": {},
     "output_type": "execute_result"
    }
   ],
   "source": [
    "a.min()"
   ]
  },
  {
   "cell_type": "markdown",
   "id": "d4fa58b4-6e96-440a-8cfc-d616910cade5",
   "metadata": {},
   "source": [
    "Because we were able to call the attribute with no parameter, we know that it is **optional**. It has a default value it accessed in the above operation.\n",
    "\n",
    "Remember: methods are functions associated with an object."
   ]
  },
  {
   "cell_type": "code",
   "execution_count": 22,
   "id": "9e44099f-d785-4f1b-bf3c-66be64d36658",
   "metadata": {
    "tags": []
   },
   "outputs": [
    {
     "data": {
      "text/plain": [
       "builtin_function_or_method"
      ]
     },
     "execution_count": 22,
     "metadata": {},
     "output_type": "execute_result"
    }
   ],
   "source": [
    "type(a.min)"
   ]
  },
  {
   "cell_type": "markdown",
   "id": "e0ca7836-eb4a-4be6-9e7b-56ff67d5c95c",
   "metadata": {},
   "source": [
    "## Exercise\n",
    "\n",
    "1. Read the `print` function help. What is the type of the argument `sep`? Is this an optional or non-optional argument? Why?\n",
    "\n",
    "2. Create two new variables, one with the integer value 77 and another one with the string 99.\n",
    "\n",
    "3. Use your variables to print `77%99%77` by changing the value of one of the optional arguments in `print`."
   ]
  },
  {
   "cell_type": "code",
   "execution_count": 31,
   "id": "75a2904f-0dd8-4858-908b-6fe9a59a7a61",
   "metadata": {
    "tags": []
   },
   "outputs": [
    {
     "data": {
      "text/plain": [
       "\u001b[0;31mSignature:\u001b[0m \u001b[0mprint\u001b[0m\u001b[0;34m(\u001b[0m\u001b[0;34m*\u001b[0m\u001b[0margs\u001b[0m\u001b[0;34m,\u001b[0m \u001b[0msep\u001b[0m\u001b[0;34m=\u001b[0m\u001b[0;34m' '\u001b[0m\u001b[0;34m,\u001b[0m \u001b[0mend\u001b[0m\u001b[0;34m=\u001b[0m\u001b[0;34m'\\n'\u001b[0m\u001b[0;34m,\u001b[0m \u001b[0mfile\u001b[0m\u001b[0;34m=\u001b[0m\u001b[0;32mNone\u001b[0m\u001b[0;34m,\u001b[0m \u001b[0mflush\u001b[0m\u001b[0;34m=\u001b[0m\u001b[0;32mFalse\u001b[0m\u001b[0;34m)\u001b[0m\u001b[0;34m\u001b[0m\u001b[0;34m\u001b[0m\u001b[0m\n",
       "\u001b[0;31mDocstring:\u001b[0m\n",
       "Prints the values to a stream, or to sys.stdout by default.\n",
       "\n",
       "sep\n",
       "  string inserted between values, default a space.\n",
       "end\n",
       "  string appended after the last value, default a newline.\n",
       "file\n",
       "  a file-like object (stream); defaults to the current sys.stdout.\n",
       "flush\n",
       "  whether to forcibly flush the stream.\n",
       "\u001b[0;31mType:\u001b[0m      builtin_function_or_method"
      ]
     },
     "metadata": {},
     "output_type": "display_data"
    }
   ],
   "source": [
    "# 1\n",
    "?print\n",
    "\n",
    "# sep is an optional argument, because it has a default value\n",
    "# the type of the argument is a string (specified in the docstring)"
   ]
  },
  {
   "cell_type": "code",
   "execution_count": null,
   "id": "89b4b54c-ccf9-4c09-af89-c85e211c6ace",
   "metadata": {},
   "outputs": [],
   "source": [
    "# 2\n",
    "x = 77\n",
    "y = '99'"
   ]
  },
  {
   "cell_type": "code",
   "execution_count": null,
   "id": "e4568462-13dc-4052-984c-9753fab940f0",
   "metadata": {},
   "outputs": [
    {
     "name": "stdout",
     "output_type": "stream",
     "text": [
      "77%99%77\n"
     ]
    }
   ],
   "source": [
    "# 3 \n",
    "print(x, y, x, sep = '%')"
   ]
  },
  {
   "cell_type": "markdown",
   "id": "807c4eb6-6338-424c-90d4-d0f9121dacaf",
   "metadata": {},
   "source": [
    "This is a test of my github!"
   ]
  },
  {
   "cell_type": "code",
   "execution_count": null,
   "id": "6e0601f5-eb62-4f53-b21b-09b59af0de13",
   "metadata": {},
   "outputs": [],
   "source": []
  }
 ],
 "metadata": {
  "kernelspec": {
   "display_name": "EDS220",
   "language": "python",
   "name": "eds220-env"
  },
  "language_info": {
   "codemirror_mode": {
    "name": "ipython",
    "version": 3
   },
   "file_extension": ".py",
   "mimetype": "text/x-python",
   "name": "python",
   "nbconvert_exporter": "python",
   "pygments_lexer": "ipython3",
   "version": "3.11.4"
  }
 },
 "nbformat": 4,
 "nbformat_minor": 5
}
