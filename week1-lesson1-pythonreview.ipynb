{
 "cells": [
  {
   "cell_type": "markdown",
   "id": "589ebf93-ced4-48fe-a4b7-d4bc91ad3cc0",
   "metadata": {},
   "source": [
    "# Python review\n",
    "\n",
    "Goals: \n",
    "- recall basic Python vocabulary \n",
    "- practice markdown\n",
    "\n",
    "## Libraries and packages\n",
    "\n",
    "**library**: a collection of code that we can use to perform specific tasks in our programs.\n",
    "\n",
    "**NumPy**: \n",
    "- core library for numerical computing in Python\n",
    "- many other libraries use NumPy arrays as building blocks.\n",
    "- computations on NumPy are optimized for speed and memory usage.\n",
    "\n",
    "Let's import NumPy with **standard abbreviation**."
   ]
  },
  {
   "cell_type": "code",
   "execution_count": 1,
   "id": "140e7842-ad59-408c-90ab-851f80e942a6",
   "metadata": {
    "tags": []
   },
   "outputs": [],
   "source": [
    "import numpy as np"
   ]
  },
  {
   "cell_type": "markdown",
   "id": "3d148988-df03-4d93-943b-d55859e2d9e0",
   "metadata": {},
   "source": [
    "## Variables\n",
    "\n",
    "**variable**: a name we assign to a particular object in Python\n",
    "\n",
    "Example:"
   ]
  },
  {
   "cell_type": "code",
   "execution_count": 3,
   "id": "af4b2ad5-2cbb-43e9-b527-aff825d7c5e8",
   "metadata": {
    "tags": []
   },
   "outputs": [],
   "source": [
    "# Assign a small array to a variable a\n",
    "a = np.array([[1, 1, 2], [3, 5, 8]])"
   ]
  },
  {
   "cell_type": "code",
   "execution_count": 4,
   "id": "32849465-76d3-4ee3-9a8c-12f847ed0fd5",
   "metadata": {
    "tags": []
   },
   "outputs": [
    {
     "data": {
      "text/plain": [
       "array([[1, 1, 2],\n",
       "       [3, 5, 8]])"
      ]
     },
     "execution_count": 4,
     "metadata": {},
     "output_type": "execute_result"
    }
   ],
   "source": [
    "# Run cell with variable name to show value\n",
    "a"
   ]
  },
  {
   "cell_type": "code",
   "execution_count": 5,
   "id": "92d290f6-4c40-4c0a-b31f-93e68e139c92",
   "metadata": {
    "tags": []
   },
   "outputs": [
    {
     "name": "stdout",
     "output_type": "stream",
     "text": [
      "[[1 1 2]\n",
      " [3 5 8]]\n"
     ]
    }
   ],
   "source": [
    "# Use `print` function to print the value\n",
    "print(a)"
   ]
  },
  {
   "cell_type": "markdown",
   "id": "59a40af7-3854-4616-a5b8-9fdeb38dfec9",
   "metadata": {},
   "source": [
    "## Objects\n",
    "\n",
    "**object** (informally speaking): a bundle of *properties* and *actions* about something specific.\n",
    "\n",
    "Example:\n",
    "\n",
    "Object: data frame\n",
    "Properties: number rows, names of columns, date created\n",
    "Actions: selecting a specific row, adding a new column \n",
    "\n",
    "A variable is the name we give a specific object, and the same object can be referenced by different variables.\n",
    "\n",
    "In practice, we can often use variable and object interchangeably."
   ]
  }
 ],
 "metadata": {
  "kernelspec": {
   "display_name": "EDS220",
   "language": "python",
   "name": "eds220-env"
  },
  "language_info": {
   "codemirror_mode": {
    "name": "ipython",
    "version": 3
   },
   "file_extension": ".py",
   "mimetype": "text/x-python",
   "name": "python",
   "nbconvert_exporter": "python",
   "pygments_lexer": "ipython3",
   "version": "3.11.4"
  }
 },
 "nbformat": 4,
 "nbformat_minor": 5
}
