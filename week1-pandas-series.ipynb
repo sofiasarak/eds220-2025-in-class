{
 "cells": [
  {
   "cell_type": "markdown",
   "id": "e2f6c203-ae70-460c-b6e2-967568f1e426",
   "metadata": {},
   "source": [
    "# 1 `pandas` series and data frames"
   ]
  },
  {
   "cell_type": "code",
   "execution_count": 1,
   "id": "4307fa71-345f-4575-8fb6-d1472f911a16",
   "metadata": {
    "tags": []
   },
   "outputs": [],
   "source": [
    "# importing libraries\n",
    "import pandas as pd\n",
    "import numpy as np"
   ]
  },
  {
   "cell_type": "markdown",
   "id": "0182eb0c-032b-4e1b-8c2e-a0d581623f37",
   "metadata": {},
   "source": [
    "**series**: a one-dimensional array of indexed data\n",
    "\n",
    "A `pandas.Series` having an index is the main difference between a `pandas.Series` and a NumPy array."
   ]
  },
  {
   "cell_type": "code",
   "execution_count": 2,
   "id": "40ce04d3-9d3d-4db1-9ce3-bf4271ea36fc",
   "metadata": {
    "tags": []
   },
   "outputs": [
    {
     "name": "stdout",
     "output_type": "stream",
     "text": [
      "<class 'numpy.ndarray'>\n",
      "[0.07615405 0.25868038 0.76977358 0.86834243] \n",
      "\n",
      "<class 'pandas.core.series.Series'>\n",
      "0    0.076154\n",
      "1    0.258680\n",
      "2    0.769774\n",
      "3    0.868342\n",
      "dtype: float64\n"
     ]
    }
   ],
   "source": [
    "# A numpy array\n",
    "arr = np.random.randn(4) # random values from std normal distribution\n",
    "print(type(arr))\n",
    "print(arr, \"\\n\")\n",
    "\n",
    "# A pandas series made from the previous array\n",
    "s = pd.Series(arr)\n",
    "print(type(s))\n",
    "print(s)"
   ]
  },
  {
   "cell_type": "markdown",
   "id": "a28d6d1d-440d-404e-ae62-012716ad6ed8",
   "metadata": {},
   "source": [
    "Here, the index of the Series was printed along with the values, whereas in the NumPy array it was not. A Series also shows the values' data types.\n",
    "\n",
    "A NumPy array is indexable, but the index is not part of its data structure."
   ]
  },
  {
   "cell_type": "markdown",
   "id": "204e2c44-1595-4b31-a0e0-2a3f85e0563c",
   "metadata": {},
   "source": [
    "## Creating a `pandas.Series`"
   ]
  },
  {
   "cell_type": "markdown",
   "id": "cafcd995-1d70-4337-aee6-93c4835c71a1",
   "metadata": {
    "tags": []
   },
   "source": [
    "Basic method:\n",
    "\n",
    "`s = pd.Series(data, index=index)`\n",
    "\n",
    "The `data` parameter can be:\n",
    "- a list or NumPy array\n",
    "- a Pthon Dictionary\n",
    "- a single number, boolean (True/False), or string\n",
    "\n",
    "The `index` parameter is optional; must be a list of indices of the same length as the data.\n",
    "\n",
    "If the `index` parameter is not included, the default is to make the index equal to `[0, ..., len(data)-1]`"
   ]
  },
  {
   "cell_type": "markdown",
   "id": "8700f3c5-fb0b-4abe-b928-260cdbb41bae",
   "metadata": {},
   "source": [
    "### Examples"
   ]
  },
  {
   "cell_type": "code",
   "execution_count": 6,
   "id": "6bbbc322-7c58-4e42-bafc-0c3946700f99",
   "metadata": {
    "tags": []
   },
   "outputs": [
    {
     "data": {
      "text/plain": [
       "2023    0\n",
       "2024    1\n",
       "2025    2\n",
       "dtype: int64"
      ]
     },
     "execution_count": 6,
     "metadata": {},
     "output_type": "execute_result"
    }
   ],
   "source": [
    "# a series from a numpy array\n",
    "\n",
    "pd.Series(np.arange(3), index=[2023, 2024, 2025])"
   ]
  },
  {
   "cell_type": "code",
   "execution_count": 7,
   "id": "6e0a2d73-79a5-45d7-bb79-9ffa741dc592",
   "metadata": {
    "tags": []
   },
   "outputs": [
    {
     "data": {
      "text/plain": [
       "0    EDS 220\n",
       "1    EDS 222\n",
       "2    EDS 223\n",
       "3    EDS 242\n",
       "dtype: object"
      ]
     },
     "execution_count": 7,
     "metadata": {},
     "output_type": "execute_result"
    }
   ],
   "source": [
    "# from a list (with default index)\n",
    "\n",
    "pd.Series(['EDS 220', 'EDS 222', 'EDS 223', 'EDS 242'])"
   ]
  },
  {
   "cell_type": "code",
   "execution_count": 8,
   "id": "70e0cf1d-a1fb-4487-9428-7c31accfe1f3",
   "metadata": {
    "tags": []
   },
   "outputs": [
    {
     "data": {
      "text/plain": [
       "key_0    2\n",
       "key_1    3\n",
       "key_2    5\n",
       "dtype: object"
      ]
     },
     "execution_count": 8,
     "metadata": {},
     "output_type": "execute_result"
    }
   ],
   "source": [
    "# from a dictionary\n",
    "# kets become the index and the values the corresponding data\n",
    "\n",
    "# construct dictionary\n",
    "\n",
    "d = {'key_0':2, 'key_1':'3', 'key_2':5}\n",
    "\n",
    "# initialize a series using a dictionary\n",
    "\n",
    "pd.Series(d)"
   ]
  },
  {
   "cell_type": "markdown",
   "id": "c0f18bfb-7238-4527-97d1-70c69d5f4789",
   "metadata": {},
   "source": [
    "Note: The data type `object` of the values in a Series usually indicates that the Series is made up of strings. However, from the example above we can see that `object` can also indicate a mix of strings *and* numbers. "
   ]
  },
  {
   "cell_type": "code",
   "execution_count": 9,
   "id": "6ae4a531-7fbe-4a9f-9fa5-8bd706b44b46",
   "metadata": {
    "tags": []
   },
   "outputs": [
    {
     "data": {
      "text/plain": [
       "A    3.0\n",
       "B    3.0\n",
       "C    3.0\n",
       "dtype: float64"
      ]
     },
     "execution_count": 9,
     "metadata": {},
     "output_type": "execute_result"
    }
   ],
   "source": [
    "# from a single value\n",
    "# in this case, an index MUST be provided; \n",
    "# the single valueu will be repeated to match the lenght of the index.\n",
    "\n",
    "pd.Series(3.0, index = ['A', 'B', 'C'])"
   ]
  },
  {
   "cell_type": "markdown",
   "id": "6049e0d6-c818-4714-9c82-87874308df2a",
   "metadata": {},
   "source": [
    "## Simple Operations\n",
    "\n",
    "Arithmetic operations work on series and so do most NumPy functions. "
   ]
  },
  {
   "cell_type": "code",
   "execution_count": 13,
   "id": "952555d5-04b9-4801-baf8-1b50c4c50e15",
   "metadata": {
    "tags": []
   },
   "outputs": [
    {
     "name": "stdout",
     "output_type": "stream",
     "text": [
      "Andrea      9.8\n",
      "Beth        7.3\n",
      "Carolina    6.5\n",
      "dtype: float64 \n",
      "\n",
      "Andrea      3.637971e+42\n",
      "Beth        5.052394e+31\n",
      "Carolina    1.694889e+28\n",
      "dtype: float64 \n",
      "\n",
      "Andrea      98\n",
      "Beth        73\n",
      "Carolina    65\n",
      "dtype: int64\n"
     ]
    }
   ],
   "source": [
    "# define a Series\n",
    "\n",
    "s = pd.Series([98, 73, 65], index = ['Andrea', 'Beth', 'Carolina'])\n",
    "\n",
    "# divide each element in series by 10\n",
    "\n",
    "print(s/10, '\\n')\n",
    "\n",
    "# take the exponential of each element in Series\n",
    "\n",
    "print(np.exp(s), '\\n')\n",
    "\n",
    "# original series in unchanged\n",
    "print(s)"
   ]
  },
  {
   "cell_type": "markdown",
   "id": "b4cfe12f-c68f-493a-9971-bcdea7faed43",
   "metadata": {},
   "source": [
    "Note: The argument `'\\n'` within the `print` command indicates that each printed object should be on its own line."
   ]
  },
  {
   "cell_type": "code",
   "execution_count": 14,
   "id": "aa79303d-de1d-41f2-8b9a-01eaa6f1bc76",
   "metadata": {
    "tags": []
   },
   "outputs": [
    {
     "data": {
      "text/plain": [
       "Andrea       True\n",
       "Beth         True\n",
       "Carolina    False\n",
       "dtype: bool"
      ]
     },
     "execution_count": 14,
     "metadata": {},
     "output_type": "execute_result"
    }
   ],
   "source": [
    "# boolean\n",
    "\n",
    "s > 70\n",
    "\n",
    "# produces new pandas.Series indicating whether elements satisfy conditions"
   ]
  },
  {
   "cell_type": "markdown",
   "id": "80b56654-594e-47d8-b645-4983f058ede8",
   "metadata": {},
   "source": [
    "\"These kinds of simple conditions on pandas.Series will be key when we are selecting data from data frames.\""
   ]
  },
  {
   "cell_type": "markdown",
   "id": "838c969e-488a-4432-a3f2-af73605b20ef",
   "metadata": {},
   "source": [
    "## Identifying Missing Values\n",
    "\n",
    "In `pandas`, a missing, NULL, or NA value can be repreated with the float value `numpy.nan`, which stands for \"not a number\"."
   ]
  },
  {
   "cell_type": "code",
   "execution_count": 15,
   "id": "9007c098-116b-47f1-aae0-19e1b496f7aa",
   "metadata": {
    "tags": []
   },
   "outputs": [
    {
     "data": {
      "text/plain": [
       "0    1.0\n",
       "1    2.0\n",
       "2    NaN\n",
       "3    4.0\n",
       "4    NaN\n",
       "dtype: float64"
      ]
     },
     "execution_count": 15,
     "metadata": {},
     "output_type": "execute_result"
    }
   ],
   "source": [
    "# Series with NAs in it\n",
    "\n",
    "s = pd.Series([1, 2, np.nan, 4, np.nan])\n",
    "s"
   ]
  },
  {
   "cell_type": "markdown",
   "id": "3c8d87e9-66b0-4588-9900-81250398fd80",
   "metadata": {},
   "source": [
    "Notice data type is `float64`."
   ]
  },
  {
   "cell_type": "markdown",
   "id": "a41e4810-3946-4e16-8291-626c91233294",
   "metadata": {},
   "source": [
    "The `.hasnans` attribute for a `pandas.Series` returns \"True\" if there are any NA values in it, and false otherwise."
   ]
  },
  {
   "cell_type": "code",
   "execution_count": 17,
   "id": "aee516fe-abfd-4de3-a155-cb2ce04d6aed",
   "metadata": {
    "tags": []
   },
   "outputs": [
    {
     "data": {
      "text/plain": [
       "True"
      ]
     },
     "execution_count": 17,
     "metadata": {},
     "output_type": "execute_result"
    }
   ],
   "source": [
    "# check if series has NAs\n",
    "\n",
    "s.hasnans"
   ]
  },
  {
   "cell_type": "markdown",
   "id": "eed33d41-cf43-4f7d-9cda-4dec5efcb4bb",
   "metadata": {},
   "source": [
    "After figuring out whether or not there are NA values, it might be useful to know *which* elements in the series are NAs. We can do this using the `.isna` method."
   ]
  },
  {
   "cell_type": "code",
   "execution_count": 18,
   "id": "12b814e4-dedf-4db2-94be-32c1ec1c4820",
   "metadata": {
    "tags": []
   },
   "outputs": [
    {
     "data": {
      "text/plain": [
       "0    False\n",
       "1    False\n",
       "2     True\n",
       "3    False\n",
       "4     True\n",
       "dtype: bool"
      ]
     },
     "execution_count": 18,
     "metadata": {},
     "output_type": "execute_result"
    }
   ],
   "source": [
    "s.isna()"
   ]
  },
  {
   "cell_type": "markdown",
   "id": "995e37a6-e06b-48fb-a1e6-ef800363efbf",
   "metadata": {},
   "source": [
    "The output is a `pandas.Series` of boolean values indicating if an element in the row at the given index is `np.nan` (True = is NA) or not."
   ]
  },
  {
   "cell_type": "code",
   "execution_count": 23,
   "id": "3ddcb0d7-a25e-499a-9581-dc61ff273751",
   "metadata": {
    "tags": []
   },
   "outputs": [
    {
     "data": {
      "text/plain": [
       "A    1.0\n",
       "B    2.0\n",
       "C    NaN\n",
       "D    NaN\n",
       "dtype: float64"
      ]
     },
     "execution_count": 23,
     "metadata": {},
     "output_type": "execute_result"
    }
   ],
   "source": [
    "# trying with -999 as NA value\n",
    "\n",
    "s = pd.Series([1, 2, -999, -999], ['A', 'B', 'C', 'D'])\n",
    "\n",
    "# using mask() method to replace -999 with NA\n",
    "\n",
    "s.mask(s == -999)"
   ]
  },
  {
   "cell_type": "markdown",
   "id": "b195e0cf-7452-4e9c-9d4d-d44d558a0df1",
   "metadata": {
    "tags": []
   },
   "source": [
    "Returns all values that were -999 as NaN!"
   ]
  },
  {
   "cell_type": "markdown",
   "id": "b166553e-ad69-445c-9734-a39aa3699c2c",
   "metadata": {},
   "source": [
    "## Creating a `pandas.DataFrame`\n",
    "\n",
    "**pandas.DataFrame**: the most used `pandas` object. It represents tabular data and we can think of it as a spreadsheet.\n",
    "\n",
    "`pandas.Series` are the columns of `pandas.DataFrame`."
   ]
  },
  {
   "cell_type": "code",
   "execution_count": 25,
   "id": "e850bc7c-123b-4f66-8756-daa9e6383661",
   "metadata": {
    "tags": []
   },
   "outputs": [
    {
     "data": {
      "text/html": [
       "<div>\n",
       "<style scoped>\n",
       "    .dataframe tbody tr th:only-of-type {\n",
       "        vertical-align: middle;\n",
       "    }\n",
       "\n",
       "    .dataframe tbody tr th {\n",
       "        vertical-align: top;\n",
       "    }\n",
       "\n",
       "    .dataframe thead th {\n",
       "        text-align: right;\n",
       "    }\n",
       "</style>\n",
       "<table border=\"1\" class=\"dataframe\">\n",
       "  <thead>\n",
       "    <tr style=\"text-align: right;\">\n",
       "      <th></th>\n",
       "      <th>col_name_1</th>\n",
       "      <th>col_name_2</th>\n",
       "    </tr>\n",
       "  </thead>\n",
       "  <tbody>\n",
       "    <tr>\n",
       "      <th>0</th>\n",
       "      <td>0</td>\n",
       "      <td>3.1</td>\n",
       "    </tr>\n",
       "    <tr>\n",
       "      <th>1</th>\n",
       "      <td>1</td>\n",
       "      <td>3.2</td>\n",
       "    </tr>\n",
       "    <tr>\n",
       "      <th>2</th>\n",
       "      <td>2</td>\n",
       "      <td>3.3</td>\n",
       "    </tr>\n",
       "  </tbody>\n",
       "</table>\n",
       "</div>"
      ],
      "text/plain": [
       "   col_name_1  col_name_2\n",
       "0           0         3.1\n",
       "1           1         3.2\n",
       "2           2         3.3"
      ]
     },
     "execution_count": 25,
     "metadata": {},
     "output_type": "execute_result"
    }
   ],
   "source": [
    "# initializing ditionary with columns' data\n",
    "\n",
    "d = {'col_name_1': pd.Series(np.arange(3)),\n",
    "    'col_name_2' : pd.Series([3.1, 3.2, 3.3])}\n",
    "\n",
    "# creating a data frame from the dictionary\n",
    "df = pd.DataFrame(d)\n",
    "df"
   ]
  },
  {
   "cell_type": "code",
   "execution_count": 27,
   "id": "6dbb5536-08e7-4fb6-89c0-78d9637ef800",
   "metadata": {
    "tags": []
   },
   "outputs": [
    {
     "data": {
      "text/html": [
       "<div>\n",
       "<style scoped>\n",
       "    .dataframe tbody tr th:only-of-type {\n",
       "        vertical-align: middle;\n",
       "    }\n",
       "\n",
       "    .dataframe tbody tr th {\n",
       "        vertical-align: top;\n",
       "    }\n",
       "\n",
       "    .dataframe thead th {\n",
       "        text-align: right;\n",
       "    }\n",
       "</style>\n",
       "<table border=\"1\" class=\"dataframe\">\n",
       "  <thead>\n",
       "    <tr style=\"text-align: right;\">\n",
       "      <th></th>\n",
       "      <th>col_name_1</th>\n",
       "      <th>col_name_2</th>\n",
       "    </tr>\n",
       "  </thead>\n",
       "  <tbody>\n",
       "    <tr>\n",
       "      <th>a</th>\n",
       "      <td>0</td>\n",
       "      <td>3.1</td>\n",
       "    </tr>\n",
       "    <tr>\n",
       "      <th>b</th>\n",
       "      <td>1</td>\n",
       "      <td>3.2</td>\n",
       "    </tr>\n",
       "    <tr>\n",
       "      <th>c</th>\n",
       "      <td>2</td>\n",
       "      <td>3.3</td>\n",
       "    </tr>\n",
       "  </tbody>\n",
       "</table>\n",
       "</div>"
      ],
      "text/plain": [
       "   col_name_1  col_name_2\n",
       "a           0         3.1\n",
       "b           1         3.2\n",
       "c           2         3.3"
      ]
     },
     "execution_count": 27,
     "metadata": {},
     "output_type": "execute_result"
    }
   ],
   "source": [
    "# changing index\n",
    "df.index = ['a', 'b', 'c']\n",
    "df"
   ]
  },
  {
   "cell_type": "code",
   "execution_count": 32,
   "id": "ce7acd69-aa23-40bf-9862-23a6d40f9f82",
   "metadata": {
    "tags": []
   },
   "outputs": [
    {
     "data": {
      "text/html": [
       "<div>\n",
       "<style scoped>\n",
       "    .dataframe tbody tr th:only-of-type {\n",
       "        vertical-align: middle;\n",
       "    }\n",
       "\n",
       "    .dataframe tbody tr th {\n",
       "        vertical-align: top;\n",
       "    }\n",
       "\n",
       "    .dataframe thead th {\n",
       "        text-align: right;\n",
       "    }\n",
       "</style>\n",
       "<table border=\"1\" class=\"dataframe\">\n",
       "  <thead>\n",
       "    <tr style=\"text-align: right;\">\n",
       "      <th></th>\n",
       "      <th>integers</th>\n",
       "      <th>floats</th>\n",
       "    </tr>\n",
       "  </thead>\n",
       "  <tbody>\n",
       "    <tr>\n",
       "      <th>a</th>\n",
       "      <td>0</td>\n",
       "      <td>3.1</td>\n",
       "    </tr>\n",
       "    <tr>\n",
       "      <th>b</th>\n",
       "      <td>1</td>\n",
       "      <td>3.2</td>\n",
       "    </tr>\n",
       "    <tr>\n",
       "      <th>c</th>\n",
       "      <td>2</td>\n",
       "      <td>3.3</td>\n",
       "    </tr>\n",
       "  </tbody>\n",
       "</table>\n",
       "</div>"
      ],
      "text/plain": [
       "   integers  floats\n",
       "a         0     3.1\n",
       "b         1     3.2\n",
       "c         2     3.3"
      ]
     },
     "execution_count": 32,
     "metadata": {},
     "output_type": "execute_result"
    }
   ],
   "source": [
    "# changing column names using columns attribute\n",
    "\n",
    "df.columns = ['integers', 'floats']\n",
    "\n",
    "df"
   ]
  }
 ],
 "metadata": {
  "kernelspec": {
   "display_name": "EDS220",
   "language": "python",
   "name": "eds220-env"
  },
  "language_info": {
   "codemirror_mode": {
    "name": "ipython",
    "version": 3
   },
   "file_extension": ".py",
   "mimetype": "text/x-python",
   "name": "python",
   "nbconvert_exporter": "python",
   "pygments_lexer": "ipython3",
   "version": "3.11.4"
  }
 },
 "nbformat": 4,
 "nbformat_minor": 5
}
